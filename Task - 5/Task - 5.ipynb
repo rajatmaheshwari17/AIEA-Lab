{
  "nbformat": 4,
  "nbformat_minor": 0,
  "metadata": {
    "colab": {
      "provenance": [],
      "collapsed_sections": [
        "UgzN71menw79",
        "BAU1fFsMsXwG",
        "BxUOUAL1tvJB"
      ]
    },
    "kernelspec": {
      "name": "python3",
      "display_name": "Python 3"
    },
    "language_info": {
      "name": "python"
    }
  },
  "cells": [
    {
      "cell_type": "markdown",
      "source": [
        "# **Understanding Datalog: A Theoretical Overview**\n",
        "\n",
        "Datalog is a declarative logic programming language designed for querying relational databases. It is based on Prolog, but lacks complicated features such as built-in predicates and arithmetic. Datalog's simplicity makes it more adaptable to optimisations and a powerful tool for efficiently managing huge databases.\n",
        "\n",
        "## **Environment Preparation**\n",
        "\n",
        "First, we need to install pyDatalog to use Datalog capabilities in Python."
      ],
      "metadata": {
        "id": "Lh2KTIT3nJPU"
      }
    },
    {
      "cell_type": "code",
      "execution_count": null,
      "metadata": {
        "id": "qReI5oorZ4Pg"
      },
      "outputs": [],
      "source": [
        "!pip install pyDatalog"
      ]
    },
    {
      "cell_type": "markdown",
      "source": [
        "## **Core Concepts of Datalog**\n",
        "### **1. Facts and Rules:**\n",
        "\n",
        "*   Facts are simple assertions regarding data, such as Knows(Alice, Bob), which declares that Alice knows Bob.\n",
        "\n",
        "*   Rules are logical expressions that deduce new facts from known ones. For example, a rule could establish friendships based on shared knowledge: Friend (X and Y):- Knows(X, Y); Knows(Y, X).\n"
      ],
      "metadata": {
        "id": "UgzN71menw79"
      }
    },
    {
      "cell_type": "code",
      "source": [
        "from pyDatalog import pyDatalog\n",
        "pyDatalog.create_terms('X, Y, Z, Knows, Friend')\n",
        "\n",
        "# Defining facts\n",
        "+ Knows('Alice', 'Bob')\n",
        "+ Knows('Bob', 'Alice')\n",
        "+ Knows('Alice', 'Charlie')\n",
        "+ Knows('Charlie', 'Alice')\n",
        "\n",
        "# Defining a rule\n",
        "Friend(X, Y) <= Knows(X, Y) & Knows(Y, X)\n",
        "\n",
        "# Query to find all friends\n",
        "print(Friend(X, Y))"
      ],
      "metadata": {
        "id": "XPa_s03Qo0EX",
        "collapsed": true
      },
      "execution_count": null,
      "outputs": []
    },
    {
      "cell_type": "markdown",
      "source": [
        "This code block presents basic facts and rules. The \"Knows\" fact refers to a relationship in which one person knows another. The \"Friend\" rule then applies these facts to derive new information: two persons are friends if they know each other. The query returns all pairings that satisfy the Friend relationship.\n",
        "\n",
        "### **2. Schema and Database Instance:**\n",
        "\n",
        "*   A schema in datalog comprises of relation names and their arities (the number of arguments or attributes). For example, Knows/2 denotes a relation named 'Knows' that has two properties.\n",
        "\n",
        "*   A database instance is a collection of facts that represents the schema.\n",
        "\n"
      ],
      "metadata": {
        "id": "FF2f7480o4N_"
      }
    },
    {
      "cell_type": "code",
      "source": [
        "# Adding more facts to the 'Knows' relation\n",
        "+ Knows('Alice', 'Dan')  # This fact is added to enhance the schema\n",
        "\n",
        "# Query to check new knowledge addition\n",
        "print(Knows(X, Y))"
      ],
      "metadata": {
        "collapsed": true,
        "id": "DF9BGESSpppM"
      },
      "execution_count": null,
      "outputs": []
    },
    {
      "cell_type": "markdown",
      "source": [
        "This section should introduce a new fact. The database instance is expanded, but the schema remains unchanged.\n",
        "\n",
        "### **3. EDB and IDB Predicates:**\n",
        "\n",
        "*   The EDB (Extensional Database) predicates are those that are explicitly defined by database facts. They represent data that has been stored.\n",
        "\n",
        "*   IDB (Intentional Database) predicates are governed by rules. They represent derived data that does not appear directly in the database.\n"
      ],
      "metadata": {
        "id": "gvkjnQgwqX4R"
      }
    },
    {
      "cell_type": "code",
      "source": [
        "# EDB predicates defined by direct facts\n",
        "+ Knows('Dan', 'Erin')\n",
        "\n",
        "# IDB predicate defined by a rule\n",
        "Friend(X, Y) <= Knows(X, Y) & Knows(Y, X)\n",
        "\n",
        "# Querying both EDB and IDB predicates\n",
        "print(\"EDB Output -\")\n",
        "print(Knows(X, Y))  # EDB output\n",
        "print()\n",
        "print(\"IDB Output -\")\n",
        "print(Friend(X, Y))  # IDB output"
      ],
      "metadata": {
        "id": "ZGdo9Q1lrG4D"
      },
      "execution_count": null,
      "outputs": []
    },
    {
      "cell_type": "markdown",
      "source": [
        "This code illustrates the difference between EDB and IDB predicates. EDB is data that may be extracted directly from facts, but IDB is the product of logical deductions (rules applied to EDB facts).\n"
      ],
      "metadata": {
        "id": "Md8MuoWjrgYV"
      }
    },
    {
      "cell_type": "markdown",
      "source": [
        "## **Syntax and Semantics**\n",
        "\n",
        "Datalog's syntax is straightforward, consisting of a set of rules and facts. The semantics of Datalog are based on the concept of least fixpoint semantics, in which the results of queries are the smallest set of facts that meet all rules.\n",
        "\n",
        "### **1. Rule Structure:**\n",
        "\n",
        "*   A typical Datalog rule consists of a head and a body: Head:- Body.\n",
        "\n",
        "*   The head comprises a single predicate that is formed from the predicates in the body using logical conjunctions (AND operations), which may include negations.\n",
        "\n",
        "### **2. Safety Requirement:**\n",
        "\n",
        "*   A rule is considered safe if every variable in its head is represented by a non-negated predicate in the body. This criterion ensures that the rule does not try to deduce facts from undefined attributes.\n",
        "\n",
        "\n",
        "\n"
      ],
      "metadata": {
        "id": "BAU1fFsMsXwG"
      }
    },
    {
      "cell_type": "code",
      "source": [
        "# Defining a rule\n",
        "Friend(X, Y) <= Knows(X, Y) & Knows(Y, X)"
      ],
      "metadata": {
        "id": "MMWHK53btoXu"
      },
      "execution_count": null,
      "outputs": []
    },
    {
      "cell_type": "markdown",
      "source": [
        "## **Stratified Negation**\n",
        "\n",
        "Datalog supports negation, but it employs stratified negation to maintain consistency and avoid inconsistencies (such as the famed \"Russell's paradox\").\n",
        "\n",
        "### **1. Stratification:**\n",
        "\n",
        "*   A Datalog program is stratified if it can be separated into layers or strata, with predicates in one layer fully evaluated before moving on to the next.\n",
        "\n",
        "* A predicate can only negatively refer to another predicate if it has been thoroughly evaluated in a previous stratum. This assures that there are no cyclic dependencies with negations.\n",
        "\n",
        "### **2. Execution:**\n",
        "\n",
        "*   The program examines each stratum in order, guaranteeing that each layer's computation is based on a complete and consistent set of data from the preceding layers.\n",
        "\n",
        "\n",
        "\n",
        "\n",
        "\n",
        "\n"
      ],
      "metadata": {
        "id": "BxUOUAL1tvJB"
      }
    },
    {
      "cell_type": "code",
      "source": [
        "pyDatalog.create_terms('Not_Friend, Person')\n",
        "\n",
        "# Introducing negation in the rules\n",
        "Not_Friend(X, Y) <= Person(X) & Person(Y) & ~(Friend(X, Y))\n",
        "Person(X) <= Knows(X, Y)\n",
        "\n",
        "# Ensuring all people are defined as Persons based on who they know\n",
        "+ Person('Alice')\n",
        "+ Person('Bob')\n",
        "+ Person('Charlie')\n",
        "+ Person('Dan')\n",
        "\n",
        "# Query to find those who are not friends\n",
        "print(Not_Friend(X, Y))"
      ],
      "metadata": {
        "id": "jPagwmePuuvo"
      },
      "execution_count": null,
      "outputs": []
    },
    {
      "cell_type": "markdown",
      "source": [
        "The term \"Not_Friend\" is defined using stratified negation, which identifies people who are not friends despite knowing them. It provides logical consistency by analysing in a layered manner—first selecting individuals, then applying friendship logic, and then evaluating non-friendship relationships."
      ],
      "metadata": {
        "id": "0doaXb12u0_l"
      }
    },
    {
      "cell_type": "markdown",
      "source": [
        "## **Applications of Datalog**\n",
        "\n",
        "Datalog is widely used in domains that need complicated queries over relational data, including:\n",
        "\n",
        "**1. Database Queries:** Its recursive characteristics make it appropriate for query types that are difficult to define in SQL, such as transitive closure.\n",
        "\n",
        "**2. Knowledge Representation:** Datalog's logical underpinning makes it ideal for use in artificial intelligence and knowledge-based systems.\n",
        "\n",
        "**3. Security:** Datalog is used to define security policies and protocols, and its declarative nature ensures clarity and consistency.\n",
        "\n"
      ],
      "metadata": {
        "id": "u0mTKzxTvJ9P"
      }
    },
    {
      "cell_type": "markdown",
      "source": [
        "## **Limitations and Extensions**\n",
        "\n",
        "While Datalog is excellent in its domain, it has limitations, most notably a lack of arithmetic and other procedural capabilities. Extensions like Datalog± and Recursive SQL address constraints by providing capabilities like inequality, arithmetic, and advanced recursion.\n",
        "\n",
        "To summarise, Datalog provides a strong platform for logical queries and data interpretation in systems that rely heavily on relational patterns and rule-based logic, as well as a simple and effective method for managing and inferring data relationships."
      ],
      "metadata": {
        "id": "S5_xvUGrv1Vy"
      }
    },
    {
      "cell_type": "markdown",
      "source": [
        "## **Debugging Tips**\n",
        "1. Ensure that pyDatalog is loaded and active for each session.\n",
        "2. Print the outputs immediately after making changes to ensure that they are correct.\n",
        "3. Ensure that the rules are appropriately defined and that no logical conflicts impede the desired results."
      ],
      "metadata": {
        "id": "h1Spu8J3wIky"
      }
    },
    {
      "cell_type": "markdown",
      "source": [
        "## **Conclusion**\n",
        "\n",
        "Congratulations on completing our in-depth tutorial of Datalog in a hands-on, interactive setting. This Google Collab tutorial has not only taught you about Datalog's syntax and semantics, but you've also seen firsthand the elegance and logical depth this language provides for accessing and managing relational databases. We began with the fundamentals—defining simple relationships—and progressed to more complicated structures such as stratified negation, demonstrating Datalog's ability to handle intricate logical queries efficiently.\n",
        "\n",
        "This journey provided you the tools you need to think logically and structurally about data relationships, with a focus on clarity and precision in rule-based data manipulation. The exercises demonstrated how Datalog can speed complex queries including recursive relationships and conditional logic, making it a valuable tool for any data professional or researcher.\n",
        "\n",
        "As you continue to improve your data querying skills, keep in mind Datalog's fundamental ideas and the methodical approach to problem solving that it encourages. Whether you're working with enormous datasets or complex data structures, the techniques covered here will help you create more efficient and trustworthy database searches. Continue experimenting with different scenarios and incorporating Datalog ideas into your projects to fully realise the potential of this strong logic programming language. Thank you for joining me on this educational voyage; may your future efforts be smart and data-driven!"
      ],
      "metadata": {
        "id": "n6urUWgHwXCz"
      }
    }
  ]
}