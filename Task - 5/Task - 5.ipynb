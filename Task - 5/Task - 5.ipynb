{
  "nbformat": 4,
  "nbformat_minor": 0,
  "metadata": {
    "colab": {
      "provenance": [],
      "collapsed_sections": [
        "UgzN71menw79",
        "BAU1fFsMsXwG",
        "BxUOUAL1tvJB"
      ]
    },
    "kernelspec": {
      "name": "python3",
      "display_name": "Python 3"
    },
    "language_info": {
      "name": "python"
    }
  },
  "cells": [
    {
      "cell_type": "markdown",
      "source": [
        "# **Understanding Datalog: A Theoretical Overview**\n",
        "\n",
        "Datalog is a declarative logic programming language primarily used for querying relational databases. It has its roots in Prolog but differs in that it lacks complex features like built-in predicates and arithmetic. This simplicity allows Datalog to be more amenable to optimizations and makes it a powerful tool for handling large databases efficiently.\n",
        "\n",
        "## **Environment Preparation**\n",
        "\n",
        "First, we need to install pyDatalog to use Datalog capabilities in Python."
      ],
      "metadata": {
        "id": "Lh2KTIT3nJPU"
      }
    },
    {
      "cell_type": "code",
      "execution_count": null,
      "metadata": {
        "id": "qReI5oorZ4Pg"
      },
      "outputs": [],
      "source": [
        "!pip install pyDatalog"
      ]
    },
    {
      "cell_type": "markdown",
      "source": [
        "## **Core Concepts of Datalog**\n",
        "### **1. Facts and Rules:**\n",
        "\n",
        "*   Facts are basic assertions about data, such as Knows(Alice, Bob)which states that Alice knows Bob.\n",
        "\n",
        "*   Rules are logical expressions that infer new facts from existing ones. For instance, a rule could determine friendships based on mutual knowledge: Friend(X, Y) :- Knows(X, Y), Knows(Y, X)."
      ],
      "metadata": {
        "id": "UgzN71menw79"
      }
    },
    {
      "cell_type": "code",
      "source": [
        "from pyDatalog import pyDatalog\n",
        "pyDatalog.create_terms('X, Y, Z, Knows, Friend')\n",
        "\n",
        "# Defining facts\n",
        "+ Knows('Alice', 'Bob')\n",
        "+ Knows('Bob', 'Alice')\n",
        "+ Knows('Alice', 'Charlie')\n",
        "+ Knows('Charlie', 'Alice')\n",
        "\n",
        "# Defining a rule\n",
        "Friend(X, Y) <= Knows(X, Y) & Knows(Y, X)\n",
        "\n",
        "# Query to find all friends\n",
        "print(Friend(X, Y))\n"
      ],
      "metadata": {
        "id": "XPa_s03Qo0EX",
        "collapsed": true
      },
      "execution_count": null,
      "outputs": []
    },
    {
      "cell_type": "markdown",
      "source": [
        "This code block introduces basic facts and rules. Here, the \"Knows\" fact represents a relationship where one person knows another. The \"Friend\" rule then uses these facts to infer new information: two people are friends if they both know each other. The query then outputs all pairs that satisfy the Friend relationship.\n",
        "\n",
        "### **2. Schema and Database Instance**\n",
        "\n",
        "*   A schema in Datalog consists of relation names and their arities(the number of arguments or attributes they contain). For example, Knows/2 indicates a relation named 'Knows' with two attributes.\n",
        "\n",
        "*   A database instance is a set of facts that instantiate the schema.\n",
        "\n"
      ],
      "metadata": {
        "id": "FF2f7480o4N_"
      }
    },
    {
      "cell_type": "code",
      "source": [
        "# @title\n",
        "# Adding more facts to the 'Knows' relation\n",
        "+ Knows('Alice', 'Dan')  # This fact is added to enhance the schema\n",
        "\n",
        "# Query to check new knowledge addition\n",
        "print(Knows(X, Y))\n"
      ],
      "metadata": {
        "collapsed": true,
        "id": "DF9BGESSpppM"
      },
      "execution_count": null,
      "outputs": []
    },
    {
      "cell_type": "markdown",
      "source": [
        "This part should add a new fact. The schema doesn't change, but the database instance is expanded.\n",
        "\n",
        "### **3. EDB and IDB Predicates:**\n",
        "\n",
        "*   EDB (Extensional Database) predicates are those defined explicitly by facts in the database. They represent stored data.\n",
        "\n",
        "*   IDB (Intensional Database) predicates are defined by rules. They represent derived data and do not appear directly in the database.\n"
      ],
      "metadata": {
        "id": "gvkjnQgwqX4R"
      }
    },
    {
      "cell_type": "code",
      "source": [
        "# EDB predicates defined by direct facts\n",
        "+ Knows('Dan', 'Erin')\n",
        "\n",
        "# IDB predicate defined by a rule\n",
        "Friend(X, Y) <= Knows(X, Y) & Knows(Y, X)\n",
        "\n",
        "# Querying both EDB and IDB predicates\n",
        "print(\"EDB Output -\")\n",
        "print(Knows(X, Y))  # EDB output\n",
        "print()\n",
        "print(\"IDB Output -\")\n",
        "print(Friend(X, Y))  # IDB output\n",
        "\n"
      ],
      "metadata": {
        "id": "ZGdo9Q1lrG4D"
      },
      "execution_count": null,
      "outputs": []
    },
    {
      "cell_type": "markdown",
      "source": [
        "This code shows the distinction between EDB and IDB predicates. EDB is data directly available from the facts, while IDB results from logical deductions (rules applied on the EDB facts).\n"
      ],
      "metadata": {
        "id": "Md8MuoWjrgYV"
      }
    },
    {
      "cell_type": "markdown",
      "source": [
        "## **Syntax and Semantics**\n",
        "\n",
        "Datalog's syntax is straightforward, consisting of a series of rules and facts. The semantics of Datalog revolves around the concept of least fixpoint semantics, where the results of queries are the smallest set of facts that satisfy all rules.\n",
        "\n",
        "### **1. Rule Structure:**\n",
        "\n",
        "*   A typical Datalog rule has a head and a body: Head :- Body.\n",
        "\n",
        "*   The head contains a single predicate which is derived from the predicates in the body through logical conjunctions (AND operations), possibly involving negation.\n",
        "\n",
        "### **Safety Requirement:**\n",
        "\n",
        "*   A rule is considered safe if every variable in its head appears in a non-negated predicate in the body. This requirement ensures that the rule does not attempt to infer facts with undefined attributes.\n",
        "\n",
        "\n",
        "\n"
      ],
      "metadata": {
        "id": "BAU1fFsMsXwG"
      }
    },
    {
      "cell_type": "code",
      "source": [
        "# Defining a rule\n",
        "Friend(X, Y) <= Knows(X, Y) & Knows(Y, X)"
      ],
      "metadata": {
        "id": "MMWHK53btoXu"
      },
      "execution_count": null,
      "outputs": []
    },
    {
      "cell_type": "markdown",
      "source": [
        "## **Stratified Negation**\n",
        "\n",
        "Datalog supports negation, but to ensure consistency and avoid contradictions (like the infamous \"Russell's paradox\"), it uses a method called stratified negation:\n",
        "\n",
        "### **1. Stratification:**\n",
        "\n",
        "*   A Datalog program is stratified if it can be divided into different layers or strata, where the predicates in one layer are fully evaluated before being used in the next.\n",
        "\n",
        "* A predicate can negatively refer to another predicate only if the latter has been fully evaluated in a previous stratum. This ensures there are no cyclic dependencies involving negations.\n",
        "\n",
        "### **2. Execution:**\n",
        "\n",
        "*   The program evaluates each stratum in sequence, ensuring that each layer's computation is based on a complete and consistent set of data from the previous layers.\n",
        "\n",
        "\n",
        "\n",
        "\n",
        "\n",
        "\n"
      ],
      "metadata": {
        "id": "BxUOUAL1tvJB"
      }
    },
    {
      "cell_type": "code",
      "source": [
        "pyDatalog.create_terms('Not_Friend, Person')\n",
        "\n",
        "# Introducing negation in the rules\n",
        "Not_Friend(X, Y) <= Person(X) & Person(Y) & ~(Friend(X, Y))\n",
        "Person(X) <= Knows(X, Y)\n",
        "\n",
        "# Ensuring all people are defined as Persons based on who they know\n",
        "+ Person('Alice')\n",
        "+ Person('Bob')\n",
        "+ Person('Charlie')\n",
        "+ Person('Dan')\n",
        "\n",
        "# Query to find those who are not friends\n",
        "print(Not_Friend(X, Y))\n"
      ],
      "metadata": {
        "id": "jPagwmePuuvo"
      },
      "execution_count": null,
      "outputs": []
    },
    {
      "cell_type": "markdown",
      "source": [
        "Stratified negation is used to define \"Not_Friend\", identifying individuals who are not friends despite being known persons. It ensures logical consistency by evaluating in a stratified manner—first determining persons, then applying friendship logic, and finally evaluating non-friendships."
      ],
      "metadata": {
        "id": "0doaXb12u0_l"
      }
    },
    {
      "cell_type": "markdown",
      "source": [
        "## **Applications of Datalog**\n",
        "Datalog is used extensively in areas requiring complex queries over relational data, including:\n",
        "\n",
        "**1. Database Queries:** Its recursive capabilities make it ideal for queries that are awkward to express in SQL, such as transitive closure.\n",
        "\n",
        "**2. Knowledge Representation:** Datalog's logical foundation makes it suitable for applications in artificial intelligence and knowledge-based systems.\n",
        "\n",
        "**3. Security:** Datalog is used to specify security policies and protocols, with its declarative nature providing clarity and correctness guarantees.\n",
        "\n"
      ],
      "metadata": {
        "id": "u0mTKzxTvJ9P"
      }
    },
    {
      "cell_type": "markdown",
      "source": [
        "## **Limitations and Extensions**\n",
        "\n",
        "While Datalog is powerful within its domain, it has limitations, particularly its lack of arithmetic and other procedural functionalities. Extensions such as Datalog± and Recursive SQL have been developed to overcome some of these limitations, adding features like inequality, arithmetic, and more sophisticated types of recursion.\n",
        "\n",
        "In summary, Datalog offers a robust platform for logical queries and data interpretation in systems where relational patterns and rule-based logic are paramount, providing a clear and effective way to manage and infer data relationships."
      ],
      "metadata": {
        "id": "S5_xvUGrv1Vy"
      }
    },
    {
      "cell_type": "markdown",
      "source": [
        "## **Debugging Tips**\n",
        "1. Ensure pyDatalog is loaded and active each session.\n",
        "2. Print outputs right after modifications to verify changes.\n",
        "3. Ensure the rules are correctly stated, and no logical contradictions prevent expected outcomes."
      ],
      "metadata": {
        "id": "h1Spu8J3wIky"
      }
    },
    {
      "cell_type": "markdown",
      "source": [
        "## **Conclusion**\n",
        "\n",
        "Congratulations on completing our detailed exploration of Datalog in a hands-on, interactive environment. Through this Google Colab tutorial, you've not just learned about Datalog's syntax and semantics, but you've also experienced firsthand the elegance and logical depth this language offers for querying and managing relational databases. We started with the basics—defining simple relationships and gradually moved towards more complex constructs like stratified negation, showcasing Datalog’s capacity to handle intricate logical queries effectively.\n",
        "\n",
        "This journey has equipped you with the tools to think logically and structurally about data relationships, emphasizing the importance of clarity and precision in rule-based data manipulation. The exercises provided practical insights into how Datalog can streamline complex queries that involve recursive relationships and conditional logic, making it a potent tool in the arsenal of any data professional or researcher.\n",
        "\n",
        "As you continue to develop your data querying skills, remember the fundamental principles of Datalog and the methodical approach to problem-solving that it encourages. Whether you’re dealing with large datasets or complex data structures, the concepts learned here will help you design more efficient and reliable database queries. Keep experimenting with different scenarios and integrating Datalog principles into your projects to fully harness the potential of this powerful logic programming language. Thank you for joining me in this educational adventure, and may your future projects be insightful and data-driven!"
      ],
      "metadata": {
        "id": "n6urUWgHwXCz"
      }
    }
  ]
}